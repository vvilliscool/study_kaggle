{
 "cells": [
  {
   "cell_type": "code",
   "execution_count": 1,
   "id": "790f6b47",
   "metadata": {
    "execution": {
     "iopub.execute_input": "2022-07-23T12:27:56.451508Z",
     "iopub.status.busy": "2022-07-23T12:27:56.450825Z",
     "iopub.status.idle": "2022-07-23T12:28:01.367979Z",
     "shell.execute_reply": "2022-07-23T12:28:01.366511Z"
    },
    "id": "OpE3aHZH0RKG",
    "papermill": {
     "duration": 4.929175,
     "end_time": "2022-07-23T12:28:01.371727",
     "exception": false,
     "start_time": "2022-07-23T12:27:56.442552",
     "status": "completed"
    },
    "tags": []
   },
   "outputs": [],
   "source": [
    "import numpy as np\n",
    "import pandas as pd\n",
    "\n",
    "from fastai.vision.all import *\n",
    "\n",
    "import albumentations as Alb"
   ]
  },
  {
   "cell_type": "markdown",
   "id": "bea6b762",
   "metadata": {
    "id": "e91q3RRo01Op",
    "papermill": {
     "duration": 0.004736,
     "end_time": "2022-07-23T12:28:01.382051",
     "exception": false,
     "start_time": "2022-07-23T12:28:01.377315",
     "status": "completed"
    },
    "tags": []
   },
   "source": [
    "* albumentations\n",
    "    * image augmentation in pytorch"
   ]
  },
  {
   "cell_type": "code",
   "execution_count": 2,
   "id": "7bb71cd4",
   "metadata": {
    "execution": {
     "iopub.execute_input": "2022-07-23T12:28:01.393785Z",
     "iopub.status.busy": "2022-07-23T12:28:01.393299Z",
     "iopub.status.idle": "2022-07-23T12:28:01.398971Z",
     "shell.execute_reply": "2022-07-23T12:28:01.397680Z"
    },
    "id": "BgJbg1DYVBvm",
    "papermill": {
     "duration": 0.01413,
     "end_time": "2022-07-23T12:28:01.401434",
     "exception": false,
     "start_time": "2022-07-23T12:28:01.387304",
     "status": "completed"
    },
    "tags": []
   },
   "outputs": [],
   "source": [
    "INPUT_PATH = '../input/paddy-disease-classification'\n",
    "TRAIN_PATH = INPUT_PATH + '/train_images'\n",
    "TEST_PATH = INPUT_PATH + '/test_images'"
   ]
  },
  {
   "cell_type": "markdown",
   "id": "e6cdcf21",
   "metadata": {
    "id": "b6K3h6jeIp08",
    "papermill": {
     "duration": 0.004731,
     "end_time": "2022-07-23T12:28:01.410970",
     "exception": false,
     "start_time": "2022-07-23T12:28:01.406239",
     "status": "completed"
    },
    "tags": []
   },
   "source": [
    "### albumentations\n",
    "* 데이터 증강 라이브러리\n",
    "* ShiftScaleRotate\n",
    "* Transpose\n",
    "* Flip: horizontally, vertically or both\n",
    "* RandomRotate90\n",
    "* RandomBrightnessContrast\n",
    "    * brightness_limit: default (-0.2, 0.2)\n",
    "    * contrast_limit: default (-0.2, 0.2)\n",
    "* HueSaturationValue\n",
    "* https://albumentations.ai/docs/api_reference/full_reference/"
   ]
  },
  {
   "cell_type": "code",
   "execution_count": 3,
   "id": "e05e16f5",
   "metadata": {
    "execution": {
     "iopub.execute_input": "2022-07-23T12:28:01.422295Z",
     "iopub.status.busy": "2022-07-23T12:28:01.421933Z",
     "iopub.status.idle": "2022-07-23T12:28:04.913864Z",
     "shell.execute_reply": "2022-07-23T12:28:04.912428Z"
    },
    "id": "xP91fPJK0lFu",
    "papermill": {
     "duration": 3.500965,
     "end_time": "2022-07-23T12:28:04.916761",
     "exception": false,
     "start_time": "2022-07-23T12:28:01.415796",
     "status": "completed"
    },
    "tags": []
   },
   "outputs": [],
   "source": [
    "# 이미지 증식\n",
    "class AlbTransform(Transform):\n",
    "    def __init__(self, aug):\n",
    "        self.aug = aug\n",
    "\n",
    "    def encodes(self, img: PILImage):\n",
    "        aug_img = self.aug(image=np.array(img))['image']\n",
    "        return PILImage.create(aug_img)\n",
    "\n",
    "def get_augs():\n",
    "    return Alb.Compose([\n",
    "        Alb.ShiftScaleRotate(rotate_limit=20, border_mode=0),\n",
    "        Alb.Transpose(),\n",
    "        Alb.Flip(),\n",
    "        Alb.RandomRotate90(),\n",
    "        Alb.RandomBrightnessContrast(),\n",
    "        Alb.HueSaturationValue(\n",
    "            hue_shift_limit=5,\n",
    "            sat_shift_limit=5,\n",
    "            val_shift_limit=5\n",
    "        )\n",
    "    ])\n",
    "\n",
    "item_tfms = [Resize(224), AlbTransform(get_augs())]\n",
    "batch_tfms = Normalize.from_stats(*imagenet_stats)"
   ]
  },
  {
   "cell_type": "markdown",
   "id": "6dedd4d6",
   "metadata": {
    "id": "p5VBFx25sMvi",
    "papermill": {
     "duration": 0.004444,
     "end_time": "2022-07-23T12:28:04.926685",
     "exception": false,
     "start_time": "2022-07-23T12:28:04.922241",
     "status": "completed"
    },
    "tags": []
   },
   "source": [
    "* ImageDataLoaders\n",
    "    * item_tfms: batching 전에 변형\n",
    "    * batch_tfms: batches 에 적용\n",
    "    * bs: batch size\n",
    "    * val_bs: batch size of validation (default - bs)\n",
    "    * shuffle_train: shuffle or not\n",
    "* from_folder\n",
    "    * train, valid: subfolders in path\n",
    "    * valid_pct: random split with percentage"
   ]
  },
  {
   "cell_type": "code",
   "execution_count": null,
   "id": "e6ada1b4",
   "metadata": {
    "execution": {
     "iopub.execute_input": "2022-07-23T12:26:06.853238Z",
     "iopub.status.busy": "2022-07-23T12:26:06.852585Z",
     "iopub.status.idle": "2022-07-23T12:26:09.650897Z",
     "shell.execute_reply": "2022-07-23T12:26:09.649894Z",
     "shell.execute_reply.started": "2022-07-23T12:26:06.853205Z"
    },
    "id": "OgJTOpen0wGm",
    "papermill": {
     "duration": null,
     "end_time": null,
     "exception": false,
     "start_time": "2022-07-23T12:28:04.931738",
     "status": "running"
    },
    "tags": []
   },
   "outputs": [],
   "source": [
    "# create datalodaer from the folder structure\n",
    "dls = ImageDataLoaders.from_folder(\n",
    "    TRAIN_PATH,\n",
    "    train='.',\n",
    "    valid=None,\n",
    "    valid_pct=0.01,\n",
    "    item_tfms=item_tfms,\n",
    "    batch_tfms=batch_tfms,\n",
    "    bs=32,\n",
    "    shuffle=True\n",
    ")"
   ]
  },
  {
   "cell_type": "code",
   "execution_count": null,
   "id": "fcff654d",
   "metadata": {
    "execution": {
     "iopub.execute_input": "2022-07-23T12:26:09.653601Z",
     "iopub.status.busy": "2022-07-23T12:26:09.652331Z",
     "iopub.status.idle": "2022-07-23T12:26:09.665159Z",
     "shell.execute_reply": "2022-07-23T12:26:09.664039Z",
     "shell.execute_reply.started": "2022-07-23T12:26:09.653555Z"
    },
    "id": "rohQnWiY3rhT",
    "outputId": "1353d7ae-6ed4-475f-cf86-6cb4e948304b",
    "papermill": {
     "duration": null,
     "end_time": null,
     "exception": null,
     "start_time": null,
     "status": "pending"
    },
    "tags": []
   },
   "outputs": [],
   "source": [
    "print('train items:', len(dls.train.items), 'validation items:', len(dls.valid.items))\n",
    "dls.vocab"
   ]
  },
  {
   "cell_type": "markdown",
   "id": "bae358bb",
   "metadata": {
    "id": "Bm5S2K2HS99r",
    "papermill": {
     "duration": null,
     "end_time": null,
     "exception": null,
     "start_time": null,
     "status": "pending"
    },
    "tags": []
   },
   "source": [
    "* vision_learner\n",
    "    * https://docs.fast.ai/vision.learner.html#vision_learner\n",
    "    * resnet50\n",
    "    * loss func - FocalLoss\n",
    "        * crossentropy의 클래스 불균형 문제 다루기 위한 개선된 버전\n",
    "        * 어렵거나 쉽게 오분류되는 케이스에 대하여 더 큰 가중치를 주는 방법\n",
    "        * Cross Entropy Loss 잘못 예측한 경우에 대하여 페널티 부여하는 것에 초점\n",
    "        * https://gaussian37.github.io/dl-concept-focal_loss/"
   ]
  },
  {
   "cell_type": "code",
   "execution_count": null,
   "id": "e8f6388b",
   "metadata": {
    "execution": {
     "iopub.execute_input": "2022-07-23T12:26:09.667362Z",
     "iopub.status.busy": "2022-07-23T12:26:09.666793Z",
     "iopub.status.idle": "2022-07-23T12:26:11.938109Z",
     "shell.execute_reply": "2022-07-23T12:26:11.936826Z",
     "shell.execute_reply.started": "2022-07-23T12:26:09.667331Z"
    },
    "id": "9InIalUv0Lc0",
    "outputId": "61093c85-8706-4d80-ccbc-aad35f6395fc",
    "papermill": {
     "duration": null,
     "end_time": null,
     "exception": null,
     "start_time": null,
     "status": "pending"
    },
    "tags": []
   },
   "outputs": [],
   "source": [
    "learn = vision_learner(\n",
    "    dls,\n",
    "    resnet50,\n",
    "    path='.',\n",
    "    loss_func=FocalLoss(),\n",
    "    metrics=[accuracy]\n",
    ")"
   ]
  },
  {
   "cell_type": "markdown",
   "id": "49b8405f",
   "metadata": {
    "id": "xDiPfhaq-9z2",
    "papermill": {
     "duration": null,
     "end_time": null,
     "exception": null,
     "start_time": null,
     "status": "pending"
    },
    "tags": []
   },
   "source": [
    "* fine_tune(epochs, base_lr=0.002, freeze_epochs=1, lr_mult=100, pct_start=0.3, div=5, ...)\n",
    "    * freeze -> one_cycle -> unfreeze -> one_cycle 한번에 진행\n",
    "    * freeze: 각 레이어의 trainable을 False (freeze_to(-1)가 default)\n",
    "    * classifier 빼놓고 앞단의 레이어들의 trainable=False\n",
    "    \n",
    "    * freeze_epochs 동안 classifier 빼놓고 앞단의 레이어들의 trainable=False => classifier learning\n",
    "    * epochs 동안 모든 레이어 trainable=True and learning"
   ]
  },
  {
   "cell_type": "code",
   "execution_count": null,
   "id": "4367fb42",
   "metadata": {
    "execution": {
     "iopub.execute_input": "2022-07-23T12:26:11.941875Z",
     "iopub.status.busy": "2022-07-23T12:26:11.939638Z"
    },
    "id": "JFebSc6aFfys",
    "outputId": "70de6729-532c-4af3-fb76-5e8acb77a201",
    "papermill": {
     "duration": null,
     "end_time": null,
     "exception": null,
     "start_time": null,
     "status": "pending"
    },
    "tags": []
   },
   "outputs": [],
   "source": [
    "learn.fine_tune(30, freeze_epochs=1, cbs=[ShowGraphCallback()])"
   ]
  },
  {
   "cell_type": "markdown",
   "id": "2368eab5",
   "metadata": {
    "id": "IOToDQSUzeMx",
    "papermill": {
     "duration": null,
     "end_time": null,
     "exception": null,
     "start_time": null,
     "status": "pending"
    },
    "tags": []
   },
   "source": [
    "* get_image_files(path, recurse=True, folders=None)\n",
    "    * Get image files in *path* recursively, only in *folders*, if specified."
   ]
  },
  {
   "cell_type": "code",
   "execution_count": null,
   "id": "a7d9ac6b",
   "metadata": {
    "id": "g-YtRTyDFmV5",
    "outputId": "d238d11c-c802-400f-9e74-0d8fc6cb238e",
    "papermill": {
     "duration": null,
     "end_time": null,
     "exception": null,
     "start_time": null,
     "status": "pending"
    },
    "tags": []
   },
   "outputs": [],
   "source": [
    "ftest = get_image_files(TEST_PATH)\n",
    "print('Testing', len(ftest), 'items')"
   ]
  },
  {
   "cell_type": "markdown",
   "id": "c159ee71",
   "metadata": {
    "id": "b17tJ_wcuCp8",
    "papermill": {
     "duration": null,
     "end_time": null,
     "exception": null,
     "start_time": null,
     "status": "pending"
    },
    "tags": []
   },
   "source": [
    "* DataLoader.test_dl\n",
    "    * Create a test dataloader from *test_items* using validation transforms of *dls*\n",
    "    * with_labels: Whether the test items contain labels\n",
    "    * shuffle: Whether to shuffle data passed to"
   ]
  },
  {
   "cell_type": "code",
   "execution_count": null,
   "id": "eb18ddb9",
   "metadata": {
    "id": "zfhWZuCNGpO9",
    "outputId": "b8dc76bf-b872-415a-9e6e-3ea3ac2062ba",
    "papermill": {
     "duration": null,
     "end_time": null,
     "exception": null,
     "start_time": null,
     "status": "pending"
    },
    "tags": []
   },
   "outputs": [],
   "source": [
    "# make dataloader for test data\n",
    "tst_dl = dls.test_dl(ftest, with_labels=False, shuffle=False)\n",
    "tst_dl.show_batch(max_n=12)"
   ]
  },
  {
   "cell_type": "markdown",
   "id": "638a3f43",
   "metadata": {
    "id": "u-2JxssbggYb",
    "papermill": {
     "duration": null,
     "end_time": null,
     "exception": null,
     "start_time": null,
     "status": "pending"
    },
    "tags": []
   },
   "source": [
    "* Learner.tta(ds_idx=1, dl=None, n=4, item_tfms=None, batch_tfms=None, beta=0.25, use_max=False)\n",
    "    * Return predictions on the ds_idx dataset or dl using Test Time Augmentation\n",
    "    * prediction *n* times with the transforms of the training set and average those.\n",
    "    * The final predictions are *(1-beta)* multiplied by this average + *beta* multiplied by the predictions obtained with the transforms of the dataset\n",
    "\n",
    "* Test Time Augmentation (TTA)\n",
    "    * 예측하는동안 데이터 증식을 사용해서 모델의 정확도를 개선하는 과정\n",
    "    * https://medium.com/geekculture/fastai-chapter-7-questions-answers-6f6dcc83dd9f"
   ]
  },
  {
   "cell_type": "code",
   "execution_count": null,
   "id": "d7581e89",
   "metadata": {
    "id": "mexL6m3oGwKi",
    "outputId": "c55947fc-8c5a-4193-a764-c448c08d51e5",
    "papermill": {
     "duration": null,
     "end_time": null,
     "exception": null,
     "start_time": null,
     "status": "pending"
    },
    "tags": []
   },
   "outputs": [],
   "source": [
    "%%time\n",
    "\n",
    "preds = learn.tta(dl=tst_dl, n=32, use_max=False)"
   ]
  },
  {
   "cell_type": "code",
   "execution_count": null,
   "id": "48aa0723",
   "metadata": {
    "id": "0q6bTooFHOB-",
    "papermill": {
     "duration": null,
     "end_time": null,
     "exception": null,
     "start_time": null,
     "status": "pending"
    },
    "tags": []
   },
   "outputs": [],
   "source": [
    "predss = learn.dls.vocab[np.argmax(preds[0], axis=1)]\n",
    "subm_df = pd.DataFrame()\n",
    "subm_df['image_id'] = [item.name for item in tst_dl.items]\n",
    "subm_df['label'] = predss\n",
    "subm_df.to_csv('fasiai2_submission.csv', header=True, index=False)"
   ]
  }
 ],
 "metadata": {
  "kernelspec": {
   "display_name": "Python 3",
   "language": "python",
   "name": "python3"
  },
  "language_info": {
   "codemirror_mode": {
    "name": "ipython",
    "version": 3
   },
   "file_extension": ".py",
   "mimetype": "text/x-python",
   "name": "python",
   "nbconvert_exporter": "python",
   "pygments_lexer": "ipython3",
   "version": "3.6.4"
  },
  "papermill": {
   "default_parameters": {},
   "duration": null,
   "end_time": null,
   "environment_variables": {},
   "exception": null,
   "input_path": "__notebook__.ipynb",
   "output_path": "__notebook__.ipynb",
   "parameters": {},
   "start_time": "2022-07-23T12:27:46.416836",
   "version": "2.3.4"
  }
 },
 "nbformat": 4,
 "nbformat_minor": 5
}