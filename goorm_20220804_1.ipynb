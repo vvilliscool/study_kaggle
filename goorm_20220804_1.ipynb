{
  "nbformat": 4,
  "nbformat_minor": 0,
  "metadata": {
    "colab": {
      "name": "goorm_20220804_1.ipynb",
      "provenance": [],
      "mount_file_id": "1i9fJvsRz_aVB5KshJPfZr54R5zW8hMdJ",
      "authorship_tag": "ABX9TyOHcQUEJYh2j7IvSJmfz7hp",
      "include_colab_link": true
    },
    "kernelspec": {
      "name": "python3",
      "display_name": "Python 3"
    },
    "language_info": {
      "name": "python"
    }
  },
  "cells": [
    {
      "cell_type": "markdown",
      "metadata": {
        "id": "view-in-github",
        "colab_type": "text"
      },
      "source": [
        "<a href=\"https://colab.research.google.com/github/vvilliscool/study_kaggle/blob/master/goorm_20220804_1.ipynb\" target=\"_parent\"><img src=\"https://colab.research.google.com/assets/colab-badge.svg\" alt=\"Open In Colab\"/></a>"
      ]
    },
    {
      "cell_type": "code",
      "execution_count": 1,
      "metadata": {
        "id": "xtT9_fkzn7Pu"
      },
      "outputs": [],
      "source": [
        "import seaborn as sns\n",
        "import matplotlib.pyplot as plt\n",
        "import numpy as np\n",
        "import pandas as pd\n",
        "import warnings\n",
        "\n",
        "warnings.filterwarnings('ignore')"
      ]
    },
    {
      "cell_type": "code",
      "source": [
        "train = pd.read_csv(\"/content/drive/MyDrive/goorm_project_class/data/t-academy/train (1).csv\") \n",
        "test = pd.read_csv(\"/content/drive/MyDrive/goorm_project_class/data/t-academy/test (1).csv\") \n",
        "sub = pd.read_csv(\"/content/drive/MyDrive/goorm_project_class/data/t-academy/sample_submission.csv\") \n",
        "\n",
        "train.shape, test.shape, sub.shape"
      ],
      "metadata": {
        "colab": {
          "base_uri": "https://localhost:8080/"
        },
        "id": "zvfWH_NGn7g1",
        "outputId": "5f3e5a0f-ad3f-420a-806c-7934b8a084b6"
      },
      "execution_count": 2,
      "outputs": [
        {
          "output_type": "execute_result",
          "data": {
            "text/plain": [
              "((26049, 16), (6512, 15), (6512, 2))"
            ]
          },
          "metadata": {},
          "execution_count": 2
        }
      ]
    },
    {
      "cell_type": "code",
      "source": [
        "train.isnull().sum()"
      ],
      "metadata": {
        "colab": {
          "base_uri": "https://localhost:8080/"
        },
        "id": "Zm6czFGDoVOL",
        "outputId": "d3c1c1c6-ba9f-4b01-fe6e-796d7a4dcb80"
      },
      "execution_count": 3,
      "outputs": [
        {
          "output_type": "execute_result",
          "data": {
            "text/plain": [
              "id                0\n",
              "age               0\n",
              "workclass         0\n",
              "fnlwgt            0\n",
              "education         0\n",
              "education_num     0\n",
              "marital_status    0\n",
              "occupation        0\n",
              "relationship      0\n",
              "race              0\n",
              "sex               0\n",
              "capital_gain      0\n",
              "capital_loss      0\n",
              "hours_per_week    0\n",
              "native_country    0\n",
              "income            0\n",
              "dtype: int64"
            ]
          },
          "metadata": {},
          "execution_count": 3
        }
      ]
    },
    {
      "cell_type": "code",
      "source": [
        "test.isnull().sum()"
      ],
      "metadata": {
        "colab": {
          "base_uri": "https://localhost:8080/"
        },
        "id": "vUzoRAz2qhun",
        "outputId": "9e72256e-8905-47b0-824d-301c84057bd4"
      },
      "execution_count": 4,
      "outputs": [
        {
          "output_type": "execute_result",
          "data": {
            "text/plain": [
              "id                0\n",
              "age               0\n",
              "workclass         0\n",
              "fnlwgt            0\n",
              "education         0\n",
              "education_num     0\n",
              "marital_status    0\n",
              "occupation        0\n",
              "relationship      0\n",
              "race              0\n",
              "sex               0\n",
              "capital_gain      0\n",
              "capital_loss      0\n",
              "hours_per_week    0\n",
              "native_country    0\n",
              "dtype: int64"
            ]
          },
          "metadata": {},
          "execution_count": 4
        }
      ]
    },
    {
      "cell_type": "code",
      "source": [
        "train.income.unique()"
      ],
      "metadata": {
        "colab": {
          "base_uri": "https://localhost:8080/"
        },
        "id": "SOl0kPyRqkg1",
        "outputId": "8ea59b62-a23a-4378-8a43-d8261d7e6746"
      },
      "execution_count": 5,
      "outputs": [
        {
          "output_type": "execute_result",
          "data": {
            "text/plain": [
              "array(['>50K', '<=50K'], dtype=object)"
            ]
          },
          "metadata": {},
          "execution_count": 5
        }
      ]
    },
    {
      "cell_type": "code",
      "source": [
        "sns.countplot(x=\"income\", data=train)"
      ],
      "metadata": {
        "colab": {
          "base_uri": "https://localhost:8080/",
          "height": 297
        },
        "id": "HGqJvwvyqn8o",
        "outputId": "879688ee-20b4-4b8b-fbad-bf8291cea18a"
      },
      "execution_count": 6,
      "outputs": [
        {
          "output_type": "execute_result",
          "data": {
            "text/plain": [
              "<matplotlib.axes._subplots.AxesSubplot at 0x7fc9f7bce350>"
            ]
          },
          "metadata": {},
          "execution_count": 6
        },
        {
          "output_type": "display_data",
          "data": {
            "text/plain": [
              "<Figure size 432x288 with 1 Axes>"
            ],
            "image/png": "[encoded data removed]"
          },
          "metadata": {
            "needs_background": "light"
          }
        }
      ]
    },
    {
      "cell_type": "markdown",
      "source": [
        "# 라벨 인코딩"
      ],
      "metadata": {
        "id": "Vs0jiiPpqy7O"
      }
    },
    {
      "cell_type": "code",
      "source": [
        "train.loc[ train['income']=='>50K' , 'target'] = 1\n",
        "train.loc[ train['income']=='<=50K' , 'target'] = 0\n",
        "train['target'] = train.target.astype(\"int\")"
      ],
      "metadata": {
        "id": "oMuUO7SEqpXY"
      },
      "execution_count": 7,
      "outputs": []
    },
    {
      "cell_type": "code",
      "source": [
        "train.info()"
      ],
      "metadata": {
        "colab": {
          "base_uri": "https://localhost:8080/"
        },
        "id": "wpuhHxgxq1B1",
        "outputId": "c23e4568-6d2d-458c-a54a-2ad913d6ec93"
      },
      "execution_count": 8,
      "outputs": [
        {
          "output_type": "stream",
          "name": "stdout",
          "text": [
            "<class 'pandas.core.frame.DataFrame'>\n",
            "RangeIndex: 26049 entries, 0 to 26048\n",
            "Data columns (total 17 columns):\n",
            " #   Column          Non-Null Count  Dtype \n",
            "---  ------          --------------  ----- \n",
            " 0   id              26049 non-null  int64 \n",
            " 1   age             26049 non-null  int64 \n",
            " 2   workclass       26049 non-null  object\n",
            " 3   fnlwgt          26049 non-null  int64 \n",
            " 4   education       26049 non-null  object\n",
            " 5   education_num   26049 non-null  int64 \n",
            " 6   marital_status  26049 non-null  object\n",
            " 7   occupation      26049 non-null  object\n",
            " 8   relationship    26049 non-null  object\n",
            " 9   race            26049 non-null  object\n",
            " 10  sex             26049 non-null  object\n",
            " 11  capital_gain    26049 non-null  int64 \n",
            " 12  capital_loss    26049 non-null  int64 \n",
            " 13  hours_per_week  26049 non-null  int64 \n",
            " 14  native_country  26049 non-null  object\n",
            " 15  income          26049 non-null  object\n",
            " 16  target          26049 non-null  int64 \n",
            "dtypes: int64(8), object(9)\n",
            "memory usage: 3.4+ MB\n"
          ]
        }
      ]
    },
    {
      "cell_type": "code",
      "source": [
        "sel = ['id', 'age', 'fnlwgt', 'education_num', 'capital_gain', 'capital_loss', 'hours_per_week']\n",
        "\n",
        "X = train[sel]\n",
        "y = train['target']\n",
        "\n",
        "test_X = test[sel]\n",
        "\n",
        "from sklearn.model_selection import train_test_split\n",
        "\n",
        "X_train, X_test, y_train, y_test = train_test_split(X,y,\n",
        "                                                   stratify=train.target,\n",
        "                                                   random_state=42)"
      ],
      "metadata": {
        "id": "3hmQMwMvq3PK"
      },
      "execution_count": 9,
      "outputs": []
    },
    {
      "cell_type": "code",
      "source": [
        "print(X_train.shape, X_test.shape, y_train.shape, y_test.shape)"
      ],
      "metadata": {
        "colab": {
          "base_uri": "https://localhost:8080/"
        },
        "id": "ocjyDBe4rQVm",
        "outputId": "86197440-d674-48d5-f1eb-02e58409df8f"
      },
      "execution_count": 10,
      "outputs": [
        {
          "output_type": "stream",
          "name": "stdout",
          "text": [
            "(19536, 7) (6513, 7) (19536,) (6513,)\n"
          ]
        }
      ]
    },
    {
      "cell_type": "markdown",
      "source": [
        "# Baseline 모델 만들기"
      ],
      "metadata": {
        "id": "xjjHm1wKrUcm"
      }
    },
    {
      "cell_type": "markdown",
      "source": [
        "## Logistic 모델"
      ],
      "metadata": {
        "id": "aND9r5Ios_Fi"
      }
    },
    {
      "cell_type": "code",
      "source": [
        "from sklearn.linear_model import LogisticRegression\n",
        "\n",
        "model_lr = LogisticRegression()\n",
        "model_lr.fit(X_train, y_train)\n",
        "\n",
        "print(\"학습용 : \", model_lr.score(X_train, y_train) )\n",
        "print(\"테스트용 : \", model_lr.score(X_test, y_test) )"
      ],
      "metadata": {
        "colab": {
          "base_uri": "https://localhost:8080/"
        },
        "id": "6MDPievBrSd2",
        "outputId": "7b423406-3129-4d6f-cc07-2f593a3fb075"
      },
      "execution_count": 11,
      "outputs": [
        {
          "output_type": "stream",
          "name": "stdout",
          "text": [
            "학습용 :  0.7971437346437347\n",
            "테스트용 :  0.7996315062183326\n"
          ]
        }
      ]
    },
    {
      "cell_type": "markdown",
      "source": [
        "## RandomForest 모델"
      ],
      "metadata": {
        "id": "dK_4Uj6UtGuN"
      }
    },
    {
      "cell_type": "code",
      "source": [
        "from sklearn.ensemble import RandomForestClassifier\n",
        "\n",
        "model_rf = RandomForestClassifier()\n",
        "model_rf.fit(X_train, y_train)\n",
        "\n",
        "print(\"학습용 : \", model_rf.score(X_train, y_train) )\n",
        "print(\"테스트용 : \", model_rf.score(X_test, y_test) )"
      ],
      "metadata": {
        "colab": {
          "base_uri": "https://localhost:8080/"
        },
        "id": "bT6eRvPytI8J",
        "outputId": "2a97ba96-c2cc-4ac7-f0ff-ba9a58d0553b"
      },
      "execution_count": 12,
      "outputs": [
        {
          "output_type": "stream",
          "name": "stdout",
          "text": [
            "학습용 :  1.0\n",
            "테스트용 :  0.8326424074927069\n"
          ]
        }
      ]
    },
    {
      "cell_type": "code",
      "source": [
        "pred_lr = model_lr.predict(X_test)"
      ],
      "metadata": {
        "id": "r0oFNM-vvOT8"
      },
      "execution_count": 13,
      "outputs": []
    },
    {
      "cell_type": "code",
      "source": [
        "pred_rf = model_rf.predict(X_test)"
      ],
      "metadata": {
        "id": "bmw6tzXOtK6H"
      },
      "execution_count": 14,
      "outputs": []
    },
    {
      "cell_type": "code",
      "source": [
        "from sklearn.metrics import classification_report\n",
        "print(classification_report(y_test, pred_lr, target_names=['<-50K','>50K']))"
      ],
      "metadata": {
        "colab": {
          "base_uri": "https://localhost:8080/"
        },
        "id": "--Qfu9IituyA",
        "outputId": "fb19d7ba-5a43-4c2f-de1b-bf0c4e25bd2b"
      },
      "execution_count": 15,
      "outputs": [
        {
          "output_type": "stream",
          "name": "stdout",
          "text": [
            "              precision    recall  f1-score   support\n",
            "\n",
            "       <-50K       0.81      0.97      0.88      4937\n",
            "        >50K       0.74      0.27      0.39      1576\n",
            "\n",
            "    accuracy                           0.80      6513\n",
            "   macro avg       0.77      0.62      0.64      6513\n",
            "weighted avg       0.79      0.80      0.76      6513\n",
            "\n"
          ]
        }
      ]
    },
    {
      "cell_type": "code",
      "source": [
        "from sklearn.metrics import classification_report\n",
        "print(classification_report(y_test, pred_rf, target_names=['<-50K','>50K']))"
      ],
      "metadata": {
        "colab": {
          "base_uri": "https://localhost:8080/"
        },
        "id": "JKhdQqy4t_0v",
        "outputId": "a9f48428-1fb3-4bd7-dae1-3740bbd1112c"
      },
      "execution_count": 16,
      "outputs": [
        {
          "output_type": "stream",
          "name": "stdout",
          "text": [
            "              precision    recall  f1-score   support\n",
            "\n",
            "       <-50K       0.85      0.94      0.90      4937\n",
            "        >50K       0.73      0.49      0.58      1576\n",
            "\n",
            "    accuracy                           0.83      6513\n",
            "   macro avg       0.79      0.72      0.74      6513\n",
            "weighted avg       0.82      0.83      0.82      6513\n",
            "\n"
          ]
        }
      ]
    },
    {
      "cell_type": "code",
      "source": [
        "from sklearn.metrics import confusion_matrix\n",
        "matrix_lr = confusion_matrix(y_test, pred_lr)\n",
        "matrix_lr"
      ],
      "metadata": {
        "colab": {
          "base_uri": "https://localhost:8080/"
        },
        "id": "updd2e9VwGJe",
        "outputId": "8513b10a-f2ac-4be4-e36c-0da882f80c46"
      },
      "execution_count": 18,
      "outputs": [
        {
          "output_type": "execute_result",
          "data": {
            "text/plain": [
              "array([[4789,  148],\n",
              "       [1157,  419]])"
            ]
          },
          "metadata": {},
          "execution_count": 18
        }
      ]
    },
    {
      "cell_type": "code",
      "source": [
        "from sklearn.metrics import confusion_matrix\n",
        "matrix_rf = confusion_matrix(y_test, pred_rf)\n",
        "matrix_rf"
      ],
      "metadata": {
        "colab": {
          "base_uri": "https://localhost:8080/"
        },
        "id": "XC-6Q7XvwbVJ",
        "outputId": "7e22ac7e-2a57-4038-a899-dc0cc81fd00c"
      },
      "execution_count": 19,
      "outputs": [
        {
          "output_type": "execute_result",
          "data": {
            "text/plain": [
              "array([[4655,  282],\n",
              "       [ 808,  768]])"
            ]
          },
          "metadata": {},
          "execution_count": 19
        }
      ]
    },
    {
      "cell_type": "code",
      "source": [
        ""
      ],
      "metadata": {
        "id": "JSchXjO7whbt"
      },
      "execution_count": null,
      "outputs": []
    }
  ]
}